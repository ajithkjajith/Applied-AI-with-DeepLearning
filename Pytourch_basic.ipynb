{
    "cells": [
        {
            "cell_type": "code",
            "execution_count": null,
            "metadata": {
                "scrolled": true
            },
            "outputs": [],
            "source": "!pip install --user https://s3.amazonaws.com/pytorch/whl/cu75/torch-0.1.6.post22-cp27-none-linux_x86_64.whl\n!pip install https://download.pytorch.org/whl/cu80/torch-0.3.0.post4-cp27-cp27mu-linex_x86_64.whl\n!pip install torchvision"
        },
        {
            "cell_type": "code",
            "execution_count": 4,
            "metadata": {},
            "outputs": [],
            "source": "import tensorflow"
        },
        {
            "cell_type": "code",
            "execution_count": 5,
            "metadata": {},
            "outputs": [
                {
                    "data": {
                        "text/plain": "<torch._C.Generator at 0x7f755ca83170>"
                    },
                    "execution_count": 5,
                    "metadata": {},
                    "output_type": "execute_result"
                }
            ],
            "source": "import torch\nimport torch.autograd as autograd\nimport torch.nn as nn\nimport torch.optim as optim\ntorch.manual_seed(122)"
        },
        {
            "cell_type": "code",
            "execution_count": 7,
            "metadata": {},
            "outputs": [],
            "source": "#creating tensor"
        },
        {
            "cell_type": "code",
            "execution_count": 9,
            "metadata": {},
            "outputs": [
                {
                    "name": "stdout",
                    "output_type": "stream",
                    "text": "<class 'list'>\n"
                }
            ],
            "source": "v = [1,2,3]\nprint(type(v))"
        },
        {
            "cell_type": "code",
            "execution_count": 10,
            "metadata": {},
            "outputs": [
                {
                    "name": "stdout",
                    "output_type": "stream",
                    "text": "<class 'torch.Tensor'>\n"
                }
            ],
            "source": "vec_tensor=torch.Tensor(v)\nprint(type(vec_tensor))"
        },
        {
            "cell_type": "code",
            "execution_count": 12,
            "metadata": {},
            "outputs": [
                {
                    "name": "stdout",
                    "output_type": "stream",
                    "text": "tensor([[1., 2., 3.],\n        [4., 5., 6.]])\n"
                }
            ],
            "source": "matrix = [[1,2,3],[4,5,6]]\nmat_tensor = torch.Tensor(matrix)\nprint(mat_tensor)"
        },
        {
            "cell_type": "code",
            "execution_count": 13,
            "metadata": {},
            "outputs": [
                {
                    "data": {
                        "text/plain": "tensor(32.)"
                    },
                    "execution_count": 13,
                    "metadata": {},
                    "output_type": "execute_result"
                }
            ],
            "source": "x = torch.Tensor([1,2,3])\ny = torch.Tensor([4,5,6])\ntorch.matmul(x,y)"
        },
        {
            "cell_type": "code",
            "execution_count": 15,
            "metadata": {},
            "outputs": [
                {
                    "name": "stdout",
                    "output_type": "stream",
                    "text": "torch.Size([32, 2000, 3, 28, 28])\n"
                }
            ],
            "source": "x = torch.randn(64000,3,28,28)\nx_reshape = x.view(32,-1,3,28,28)\nprint(x_reshape.shape)"
        },
        {
            "cell_type": "code",
            "execution_count": 16,
            "metadata": {},
            "outputs": [],
            "source": "#Computational Graphs"
        },
        {
            "cell_type": "code",
            "execution_count": 8,
            "metadata": {},
            "outputs": [
                {
                    "name": "stdout",
                    "output_type": "stream",
                    "text": "tensor([1., 2., 3.])\n"
                }
            ],
            "source": "x = autograd.Variable(torch.Tensor([1,2,3]),requires_grad=True) # Keeps track of variable\nprint(x.data)"
        },
        {
            "cell_type": "code",
            "execution_count": 9,
            "metadata": {},
            "outputs": [],
            "source": "y = autograd.Variable(torch.Tensor([1,2,3]),requires_grad=True)"
        },
        {
            "cell_type": "code",
            "execution_count": 12,
            "metadata": {},
            "outputs": [
                {
                    "name": "stdout",
                    "output_type": "stream",
                    "text": "tensor([2., 4., 6.])\n<AddBackward0 object at 0x7f755c51ad30>\n"
                }
            ],
            "source": "z=x+y\nprint(z.data)\nprint(z.grad_fn) #prints the operation performed on variable z"
        },
        {
            "cell_type": "code",
            "execution_count": 13,
            "metadata": {},
            "outputs": [
                {
                    "name": "stdout",
                    "output_type": "stream",
                    "text": "tensor(12.)\n<SumBackward0 object at 0x7f755c51aac8>\n"
                }
            ],
            "source": "s = z.sum()\nprint(s.data)\nprint(s.grad_fn)"
        },
        {
            "cell_type": "code",
            "execution_count": 14,
            "metadata": {},
            "outputs": [],
            "source": "#Not breaking pytorch computations"
        },
        {
            "cell_type": "code",
            "execution_count": 15,
            "metadata": {},
            "outputs": [
                {
                    "name": "stdout",
                    "output_type": "stream",
                    "text": "tensor([[-0.7317, -1.1116],\n        [ 0.0369,  0.6772]])\n"
                }
            ],
            "source": "x = torch.randn((2,2))\ny = torch.randn((2,2))\nz=x+y\nprint(z)"
        },
        {
            "cell_type": "code",
            "execution_count": 19,
            "metadata": {},
            "outputs": [
                {
                    "name": "stdout",
                    "output_type": "stream",
                    "text": "tensor([[-0.7317, -1.1116],\n        [ 0.0369,  0.6772]], grad_fn=<AddBackward0>)\n<AddBackward0 object at 0x7f755bdcf198>\n"
                }
            ],
            "source": "varx = autograd.Variable(x,requires_grad=True)\nvary = autograd.Variable(y,requires_grad=True)\nvarz = varx+vary\nprint(varz)\nprint(varz.grad_fn)"
        },
        {
            "cell_type": "code",
            "execution_count": 22,
            "metadata": {},
            "outputs": [
                {
                    "name": "stdout",
                    "output_type": "stream",
                    "text": "tensor([[-0.7317, -1.1116],\n        [ 0.0369,  0.6772]])\nNone\n"
                }
            ],
            "source": "#SHOULD NOT try to re wrap the tensor with already wrapped tensor we will loose the gradients\nnew = autograd.Variable(varz.data)\nprint(new.data)\nprint(new.grad_fn)\n"
        },
        {
            "cell_type": "code",
            "execution_count": null,
            "metadata": {},
            "outputs": [],
            "source": ""
        }
    ],
    "metadata": {
        "kernelspec": {
            "display_name": "Python 3.6",
            "language": "python",
            "name": "python3"
        },
        "language_info": {
            "codemirror_mode": {
                "name": "ipython",
                "version": 3
            },
            "file_extension": ".py",
            "mimetype": "text/x-python",
            "name": "python",
            "nbconvert_exporter": "python",
            "pygments_lexer": "ipython3",
            "version": "3.6.9"
        }
    },
    "nbformat": 4,
    "nbformat_minor": 1
}